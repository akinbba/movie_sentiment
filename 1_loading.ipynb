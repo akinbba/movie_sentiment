{
 "metadata": {
  "language_info": {
   "codemirror_mode": {
    "name": "ipython",
    "version": 3
   },
   "file_extension": ".py",
   "mimetype": "text/x-python",
   "name": "python",
   "nbconvert_exporter": "python",
   "pygments_lexer": "ipython3",
   "version": "3.9.5"
  },
  "orig_nbformat": 4,
  "kernelspec": {
   "name": "python3",
   "display_name": "Python 3.9.5 64-bit (windows store)"
  },
  "interpreter": {
   "hash": "08bcf114b6799a788c3e4c5366ee28d230c9527aecb5fe8828812464fcb419b7"
  }
 },
 "nbformat": 4,
 "nbformat_minor": 2,
 "cells": [
  {
   "source": [
    "# 1_loading.ipynb\n",
    "\n",
    "- Goal: Merge twitter data from twitter API\n",
    "- from json format to dataframe and csv\n"
   ],
   "cell_type": "markdown",
   "metadata": {}
  },
  {
   "cell_type": "code",
   "execution_count": 1,
   "metadata": {},
   "outputs": [],
   "source": [
    "# import packages\n",
    "import re\n",
    "import pandas as pd"
   ]
  },
  {
   "cell_type": "code",
   "execution_count": 2,
   "metadata": {},
   "outputs": [
    {
     "output_type": "execute_result",
     "data": {
      "text/plain": [
       "14"
      ]
     },
     "metadata": {},
     "execution_count": 2
    }
   ],
   "source": [
    "# filter files only for our big data project, any language\n",
    "all_files = os.listdir(path='twitterdata')\n",
    "r = re.compile(\".*_(movie)\")\n",
    "files = list(filter(r.match, all_files)) \n",
    "len(files)"
   ]
  },
  {
   "cell_type": "code",
   "execution_count": 3,
   "metadata": {},
   "outputs": [],
   "source": [
    "#make one dataframe out of all these files\n",
    "dfs = []\n",
    "\n",
    "files_paths = ['twitterdata/' + file for file in files]\n",
    "\n",
    "for x in files_paths:\n",
    "    data = pd.read_json(x)\n",
    "    dfs.append(data)\n",
    "\n",
    "df = pd.concat(dfs)"
   ]
  },
  {
   "cell_type": "code",
   "execution_count": 4,
   "metadata": {},
   "outputs": [
    {
     "output_type": "execute_result",
     "data": {
      "text/plain": [
       "(10965, 13)"
      ]
     },
     "metadata": {},
     "execution_count": 4
    }
   ],
   "source": [
    "# overview of the df\n",
    "df.shape"
   ]
  },
  {
   "cell_type": "code",
   "execution_count": 5,
   "metadata": {},
   "outputs": [
    {
     "output_type": "execute_result",
     "data": {
      "text/plain": [
       "Index(['user_id', 'user_statuses', 'name', 'tweet', 'retweets', 'location',\n",
       "       'created', 'followers', 'is_user_verified', 'favorite_count',\n",
       "       'in_reply_to_status_id', 'keyword', 'language'],\n",
       "      dtype='object')"
      ]
     },
     "metadata": {},
     "execution_count": 5
    }
   ],
   "source": [
    "df.columns"
   ]
  },
  {
   "cell_type": "code",
   "execution_count": 6,
   "metadata": {},
   "outputs": [
    {
     "output_type": "stream",
     "name": "stdout",
     "text": [
      "<class 'pandas.core.frame.DataFrame'>\nInt64Index: 10965 entries, 0 to 99\nData columns (total 13 columns):\n #   Column                 Non-Null Count  Dtype  \n---  ------                 --------------  -----  \n 0   user_id                10965 non-null  int64  \n 1   user_statuses          10965 non-null  int64  \n 2   name                   10965 non-null  object \n 3   tweet                  10965 non-null  object \n 4   retweets               10965 non-null  int64  \n 5   location               10965 non-null  object \n 6   created                10965 non-null  object \n 7   followers              10965 non-null  int64  \n 8   is_user_verified       10965 non-null  bool   \n 9   favorite_count         10965 non-null  int64  \n 10  in_reply_to_status_id  4901 non-null   float64\n 11  keyword                10965 non-null  object \n 12  language               10965 non-null  object \ndtypes: bool(1), float64(1), int64(5), object(6)\nmemory usage: 1.1+ MB\n"
     ]
    }
   ],
   "source": [
    "df.info()"
   ]
  },
  {
   "cell_type": "code",
   "execution_count": 7,
   "metadata": {},
   "outputs": [
    {
     "output_type": "execute_result",
     "data": {
      "text/plain": [
       "               user_id  user_statuses            name  \\\n",
       "0  1308491138077274113           9281         GoaFetz   \n",
       "1             18772279           5917          outnow   \n",
       "2   883643872747835392            253  subhajit_mshra   \n",
       "3           4273473912          15425         ynadevs   \n",
       "4             23049076          19246         Nimbert   \n",
       "\n",
       "                                               tweet  retweets  \\\n",
       "0  @DFliesstext ... die schon vor weit über einem...         0   \n",
       "1  Seit dieser Woche läuft «Demon Slayer the Movi...         0   \n",
       "2  #6\\n\\nMehndi Hai Rachnewali\\n\\nMovie - Zubeida...         0   \n",
       "3                                     Movie marathon         0   \n",
       "4  Anderer Ansatz als die bisherigen 12 #XMen Fil...         0   \n",
       "\n",
       "                    location      created  followers  is_user_verified  \\\n",
       "0                     Berlin  11-Jun-2021        346             False   \n",
       "1                     Zürich  11-Jun-2021       3321             False   \n",
       "2              Mumbai, India  11-Jun-2021        181             False   \n",
       "3                             11-Jun-2021        619             False   \n",
       "4  Europe, Germany, Hannover  11-Jun-2021        238             False   \n",
       "\n",
       "   favorite_count  in_reply_to_status_id keyword language  \n",
       "0               0           1.403253e+18   movie       de  \n",
       "1               0                    NaN   movie       de  \n",
       "2               0           1.403252e+18   movie       de  \n",
       "3               1                    NaN   movie       de  \n",
       "4               0                    NaN   movie       de  "
      ],
      "text/html": "<div>\n<style scoped>\n    .dataframe tbody tr th:only-of-type {\n        vertical-align: middle;\n    }\n\n    .dataframe tbody tr th {\n        vertical-align: top;\n    }\n\n    .dataframe thead th {\n        text-align: right;\n    }\n</style>\n<table border=\"1\" class=\"dataframe\">\n  <thead>\n    <tr style=\"text-align: right;\">\n      <th></th>\n      <th>user_id</th>\n      <th>user_statuses</th>\n      <th>name</th>\n      <th>tweet</th>\n      <th>retweets</th>\n      <th>location</th>\n      <th>created</th>\n      <th>followers</th>\n      <th>is_user_verified</th>\n      <th>favorite_count</th>\n      <th>in_reply_to_status_id</th>\n      <th>keyword</th>\n      <th>language</th>\n    </tr>\n  </thead>\n  <tbody>\n    <tr>\n      <th>0</th>\n      <td>1308491138077274113</td>\n      <td>9281</td>\n      <td>GoaFetz</td>\n      <td>@DFliesstext ... die schon vor weit über einem...</td>\n      <td>0</td>\n      <td>Berlin</td>\n      <td>11-Jun-2021</td>\n      <td>346</td>\n      <td>False</td>\n      <td>0</td>\n      <td>1.403253e+18</td>\n      <td>movie</td>\n      <td>de</td>\n    </tr>\n    <tr>\n      <th>1</th>\n      <td>18772279</td>\n      <td>5917</td>\n      <td>outnow</td>\n      <td>Seit dieser Woche läuft «Demon Slayer the Movi...</td>\n      <td>0</td>\n      <td>Zürich</td>\n      <td>11-Jun-2021</td>\n      <td>3321</td>\n      <td>False</td>\n      <td>0</td>\n      <td>NaN</td>\n      <td>movie</td>\n      <td>de</td>\n    </tr>\n    <tr>\n      <th>2</th>\n      <td>883643872747835392</td>\n      <td>253</td>\n      <td>subhajit_mshra</td>\n      <td>#6\\n\\nMehndi Hai Rachnewali\\n\\nMovie - Zubeida...</td>\n      <td>0</td>\n      <td>Mumbai, India</td>\n      <td>11-Jun-2021</td>\n      <td>181</td>\n      <td>False</td>\n      <td>0</td>\n      <td>1.403252e+18</td>\n      <td>movie</td>\n      <td>de</td>\n    </tr>\n    <tr>\n      <th>3</th>\n      <td>4273473912</td>\n      <td>15425</td>\n      <td>ynadevs</td>\n      <td>Movie marathon</td>\n      <td>0</td>\n      <td></td>\n      <td>11-Jun-2021</td>\n      <td>619</td>\n      <td>False</td>\n      <td>1</td>\n      <td>NaN</td>\n      <td>movie</td>\n      <td>de</td>\n    </tr>\n    <tr>\n      <th>4</th>\n      <td>23049076</td>\n      <td>19246</td>\n      <td>Nimbert</td>\n      <td>Anderer Ansatz als die bisherigen 12 #XMen Fil...</td>\n      <td>0</td>\n      <td>Europe, Germany, Hannover</td>\n      <td>11-Jun-2021</td>\n      <td>238</td>\n      <td>False</td>\n      <td>0</td>\n      <td>NaN</td>\n      <td>movie</td>\n      <td>de</td>\n    </tr>\n  </tbody>\n</table>\n</div>"
     },
     "metadata": {},
     "execution_count": 7
    }
   ],
   "source": [
    "df.head()"
   ]
  },
  {
   "cell_type": "code",
   "execution_count": 9,
   "metadata": {},
   "outputs": [],
   "source": [
    "df.drop(['user_statuses', \n",
    "        'followers', 'is_user_verified', 'favorite_count',\n",
    "       'in_reply_to_status_id'], axis=1, inplace=True)\n"
   ]
  },
  {
   "cell_type": "code",
   "execution_count": 14,
   "metadata": {},
   "outputs": [
    {
     "output_type": "execute_result",
     "data": {
      "text/plain": [
       "               user_id            name  \\\n",
       "0  1308491138077274113         GoaFetz   \n",
       "1             18772279          outnow   \n",
       "2   883643872747835392  subhajit_mshra   \n",
       "3           4273473912         ynadevs   \n",
       "4             23049076         Nimbert   \n",
       "\n",
       "                                               tweet  retweets  \\\n",
       "0  @DFliesstext ... die schon vor weit über einem...         0   \n",
       "1  Seit dieser Woche läuft «Demon Slayer the Movi...         0   \n",
       "2  #6\\n\\nMehndi Hai Rachnewali\\n\\nMovie - Zubeida...         0   \n",
       "3                                     Movie marathon         0   \n",
       "4  Anderer Ansatz als die bisherigen 12 #XMen Fil...         0   \n",
       "\n",
       "                    location      created keyword language  \n",
       "0                     Berlin  11-Jun-2021   movie       de  \n",
       "1                     Zürich  11-Jun-2021   movie       de  \n",
       "2              Mumbai, India  11-Jun-2021   movie       de  \n",
       "3                             11-Jun-2021   movie       de  \n",
       "4  Europe, Germany, Hannover  11-Jun-2021   movie       de  "
      ],
      "text/html": "<div>\n<style scoped>\n    .dataframe tbody tr th:only-of-type {\n        vertical-align: middle;\n    }\n\n    .dataframe tbody tr th {\n        vertical-align: top;\n    }\n\n    .dataframe thead th {\n        text-align: right;\n    }\n</style>\n<table border=\"1\" class=\"dataframe\">\n  <thead>\n    <tr style=\"text-align: right;\">\n      <th></th>\n      <th>user_id</th>\n      <th>name</th>\n      <th>tweet</th>\n      <th>retweets</th>\n      <th>location</th>\n      <th>created</th>\n      <th>keyword</th>\n      <th>language</th>\n    </tr>\n  </thead>\n  <tbody>\n    <tr>\n      <th>0</th>\n      <td>1308491138077274113</td>\n      <td>GoaFetz</td>\n      <td>@DFliesstext ... die schon vor weit über einem...</td>\n      <td>0</td>\n      <td>Berlin</td>\n      <td>11-Jun-2021</td>\n      <td>movie</td>\n      <td>de</td>\n    </tr>\n    <tr>\n      <th>1</th>\n      <td>18772279</td>\n      <td>outnow</td>\n      <td>Seit dieser Woche läuft «Demon Slayer the Movi...</td>\n      <td>0</td>\n      <td>Zürich</td>\n      <td>11-Jun-2021</td>\n      <td>movie</td>\n      <td>de</td>\n    </tr>\n    <tr>\n      <th>2</th>\n      <td>883643872747835392</td>\n      <td>subhajit_mshra</td>\n      <td>#6\\n\\nMehndi Hai Rachnewali\\n\\nMovie - Zubeida...</td>\n      <td>0</td>\n      <td>Mumbai, India</td>\n      <td>11-Jun-2021</td>\n      <td>movie</td>\n      <td>de</td>\n    </tr>\n    <tr>\n      <th>3</th>\n      <td>4273473912</td>\n      <td>ynadevs</td>\n      <td>Movie marathon</td>\n      <td>0</td>\n      <td></td>\n      <td>11-Jun-2021</td>\n      <td>movie</td>\n      <td>de</td>\n    </tr>\n    <tr>\n      <th>4</th>\n      <td>23049076</td>\n      <td>Nimbert</td>\n      <td>Anderer Ansatz als die bisherigen 12 #XMen Fil...</td>\n      <td>0</td>\n      <td>Europe, Germany, Hannover</td>\n      <td>11-Jun-2021</td>\n      <td>movie</td>\n      <td>de</td>\n    </tr>\n  </tbody>\n</table>\n</div>"
     },
     "metadata": {},
     "execution_count": 14
    }
   ],
   "source": [
    "df.head()"
   ]
  },
  {
   "cell_type": "code",
   "execution_count": 18,
   "metadata": {},
   "outputs": [],
   "source": [
    "df.to_csv('raw_movie.csv', sep='ß')"
   ]
  },
  {
   "cell_type": "code",
   "execution_count": 10,
   "metadata": {},
   "outputs": [
    {
     "output_type": "execute_result",
     "data": {
      "text/plain": [
       "movie        10956\n",
       "movie2021        9\n",
       "Name: keyword, dtype: int64"
      ]
     },
     "metadata": {},
     "execution_count": 10
    }
   ],
   "source": [
    "# check value counts for all predefined kexwords ind 0_twitter_api.pynb\n",
    "df.keyword.value_counts()"
   ]
  },
  {
   "cell_type": "code",
   "execution_count": 17,
   "metadata": {},
   "outputs": [
    {
     "output_type": "execute_result",
     "data": {
      "text/plain": [
       "0       6712\n",
       "1       2200\n",
       "2        672\n",
       "3        335\n",
       "4        230\n",
       "        ... \n",
       "493        1\n",
       "344        1\n",
       "2193       1\n",
       "136        1\n",
       "3118       1\n",
       "Name: favorite_count, Length: 101, dtype: int64"
      ]
     },
     "metadata": {},
     "execution_count": 17
    }
   ],
   "source": [
    "df.favorite_count.value_counts()"
   ]
  },
  {
   "cell_type": "code",
   "execution_count": 11,
   "metadata": {},
   "outputs": [
    {
     "output_type": "execute_result",
     "data": {
      "text/plain": [
       "                               3344\n",
       "she/her                         183\n",
       "India                            94\n",
       "Paris, France                    63\n",
       "München, Bayern                  57\n",
       "                               ... \n",
       "Scotland  - Senegal               1\n",
       " | she/her | 17 | bi |            1\n",
       "Las Palmas G.C                    1\n",
       "neo city -exo planet              1\n",
       "Berlin, Paris, London, Gera       1\n",
       "Name: location, Length: 4327, dtype: int64"
      ]
     },
     "metadata": {},
     "execution_count": 11
    }
   ],
   "source": [
    "df.location.value_counts()"
   ]
  },
  {
   "cell_type": "code",
   "execution_count": 12,
   "metadata": {},
   "outputs": [],
   "source": [
    "# save df as json and csv\n",
    "# df_csv = df.to_csv(\"movie.csv\")"
   ]
  },
  {
   "cell_type": "code",
   "execution_count": null,
   "metadata": {},
   "outputs": [],
   "source": [
    "d"
   ]
  }
 ]
}