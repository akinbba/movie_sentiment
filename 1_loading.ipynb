{
 "metadata": {
  "language_info": {
   "codemirror_mode": {
    "name": "ipython",
    "version": 3
   },
   "file_extension": ".py",
   "mimetype": "text/x-python",
   "name": "python",
   "nbconvert_exporter": "python",
   "pygments_lexer": "ipython3",
   "version": "3.8.3"
  },
  "orig_nbformat": 4,
  "kernelspec": {
   "name": "python3",
   "display_name": "Python 3.8.3 64-bit ('base': conda)"
  },
  "interpreter": {
   "hash": "516186bd0ec0d9f4d5315d95f88038d756540a3a2a2ced092e94dc29fedad10e"
  }
 },
 "nbformat": 4,
 "nbformat_minor": 2,
 "cells": [
  {
   "source": [
    "# 1_loading.ipynb\n",
    "\n",
    "- Goal: Merge twitter data from twitter API\n",
    "- from json format to dataframe and csv\n"
   ],
   "cell_type": "markdown",
   "metadata": {}
  },
  {
   "cell_type": "code",
   "execution_count": 1,
   "metadata": {},
   "outputs": [
    {
     "output_type": "stream",
     "name": "stderr",
     "text": [
      "D:\\deniz\\anaconda3\\lib\\site-packages\\gensim\\similarities\\__init__.py:15: UserWarning: The gensim.similarities.levenshtein submodule is disabled, because the optional Levenshtein package <https://pypi.org/project/python-Levenshtein/> is unavailable. Install Levenhstein (e.g. `pip install python-Levenshtein`) to suppress this warning.\n  warnings.warn(msg)\n"
     ]
    }
   ],
   "source": [
    "# import packages\n",
    "import re\n",
    "import pandas as pd\n",
    "import pandas as pd\n",
    "import re \n",
    "import gensim\n",
    "from gensim.parsing.preprocessing import STOPWORDS, strip_tags, strip_numeric, strip_punctuation, strip_multiple_whitespaces, remove_stopwords, strip_short, stem_text\n",
    "import pickle\n",
    "import en_core_web_sm\n",
    "import nltk\n",
    "import os\n",
    "from nltk.tokenize import word_tokenize\n",
    "import emoji"
   ]
  },
  {
   "cell_type": "code",
   "execution_count": 2,
   "metadata": {},
   "outputs": [
    {
     "output_type": "execute_result",
     "data": {
      "text/plain": [
       "14"
      ]
     },
     "metadata": {},
     "execution_count": 2
    }
   ],
   "source": [
    "# filter files only for our big data project, any language\n",
    "all_files = os.listdir(path='twitterdata')\n",
    "r = re.compile(\".*_(movie)\")\n",
    "files = list(filter(r.match, all_files)) \n",
    "len(files)"
   ]
  },
  {
   "cell_type": "code",
   "execution_count": 18,
   "metadata": {},
   "outputs": [],
   "source": [
    "#make one dataframe out of all these files\n",
    "dfs = []\n",
    "\n",
    "files_paths = ['twitterdata/' + file for file in files]\n",
    "\n",
    "for x in files_paths:\n",
    "    data = pd.read_json(x)\n",
    "    dfs.append(data)\n",
    "\n",
    "df = pd.concat(dfs)"
   ]
  },
  {
   "cell_type": "code",
   "execution_count": 19,
   "metadata": {},
   "outputs": [
    {
     "output_type": "execute_result",
     "data": {
      "text/plain": [
       "(10965, 13)"
      ]
     },
     "metadata": {},
     "execution_count": 19
    }
   ],
   "source": [
    "# overview of the df\n",
    "df.shape"
   ]
  },
  {
   "cell_type": "code",
   "execution_count": 20,
   "metadata": {},
   "outputs": [
    {
     "output_type": "execute_result",
     "data": {
      "text/plain": [
       "Index(['user_id', 'user_statuses', 'name', 'tweet', 'retweets', 'location',\n",
       "       'created', 'followers', 'is_user_verified', 'favorite_count',\n",
       "       'in_reply_to_status_id', 'keyword', 'language'],\n",
       "      dtype='object')"
      ]
     },
     "metadata": {},
     "execution_count": 20
    }
   ],
   "source": [
    "df.columns"
   ]
  },
  {
   "cell_type": "code",
   "execution_count": 21,
   "metadata": {},
   "outputs": [
    {
     "output_type": "stream",
     "name": "stdout",
     "text": [
      "<class 'pandas.core.frame.DataFrame'>\nInt64Index: 10965 entries, 0 to 99\nData columns (total 13 columns):\n #   Column                 Non-Null Count  Dtype  \n---  ------                 --------------  -----  \n 0   user_id                10965 non-null  int64  \n 1   user_statuses          10965 non-null  int64  \n 2   name                   10965 non-null  object \n 3   tweet                  10965 non-null  object \n 4   retweets               10965 non-null  int64  \n 5   location               10965 non-null  object \n 6   created                10965 non-null  object \n 7   followers              10965 non-null  int64  \n 8   is_user_verified       10965 non-null  bool   \n 9   favorite_count         10965 non-null  int64  \n 10  in_reply_to_status_id  4901 non-null   float64\n 11  keyword                10965 non-null  object \n 12  language               10965 non-null  object \ndtypes: bool(1), float64(1), int64(5), object(6)\nmemory usage: 1.1+ MB\n"
     ]
    }
   ],
   "source": [
    "df.info()"
   ]
  },
  {
   "cell_type": "code",
   "execution_count": 22,
   "metadata": {},
   "outputs": [
    {
     "output_type": "execute_result",
     "data": {
      "text/plain": [
       "               user_id  user_statuses            name  \\\n",
       "0  1308491138077274113           9281         GoaFetz   \n",
       "1             18772279           5917          outnow   \n",
       "2   883643872747835392            253  subhajit_mshra   \n",
       "3           4273473912          15425         ynadevs   \n",
       "4             23049076          19246         Nimbert   \n",
       "\n",
       "                                               tweet  retweets  \\\n",
       "0  @DFliesstext ... die schon vor weit über einem...         0   \n",
       "1  Seit dieser Woche läuft «Demon Slayer the Movi...         0   \n",
       "2  #6\\n\\nMehndi Hai Rachnewali\\n\\nMovie - Zubeida...         0   \n",
       "3                                     Movie marathon         0   \n",
       "4  Anderer Ansatz als die bisherigen 12 #XMen Fil...         0   \n",
       "\n",
       "                    location      created  followers  is_user_verified  \\\n",
       "0                     Berlin  11-Jun-2021        346             False   \n",
       "1                     Zürich  11-Jun-2021       3321             False   \n",
       "2              Mumbai, India  11-Jun-2021        181             False   \n",
       "3                             11-Jun-2021        619             False   \n",
       "4  Europe, Germany, Hannover  11-Jun-2021        238             False   \n",
       "\n",
       "   favorite_count  in_reply_to_status_id keyword language  \n",
       "0               0           1.403253e+18   movie       de  \n",
       "1               0                    NaN   movie       de  \n",
       "2               0           1.403252e+18   movie       de  \n",
       "3               1                    NaN   movie       de  \n",
       "4               0                    NaN   movie       de  "
      ],
      "text/html": "<div>\n<style scoped>\n    .dataframe tbody tr th:only-of-type {\n        vertical-align: middle;\n    }\n\n    .dataframe tbody tr th {\n        vertical-align: top;\n    }\n\n    .dataframe thead th {\n        text-align: right;\n    }\n</style>\n<table border=\"1\" class=\"dataframe\">\n  <thead>\n    <tr style=\"text-align: right;\">\n      <th></th>\n      <th>user_id</th>\n      <th>user_statuses</th>\n      <th>name</th>\n      <th>tweet</th>\n      <th>retweets</th>\n      <th>location</th>\n      <th>created</th>\n      <th>followers</th>\n      <th>is_user_verified</th>\n      <th>favorite_count</th>\n      <th>in_reply_to_status_id</th>\n      <th>keyword</th>\n      <th>language</th>\n    </tr>\n  </thead>\n  <tbody>\n    <tr>\n      <th>0</th>\n      <td>1308491138077274113</td>\n      <td>9281</td>\n      <td>GoaFetz</td>\n      <td>@DFliesstext ... die schon vor weit über einem...</td>\n      <td>0</td>\n      <td>Berlin</td>\n      <td>11-Jun-2021</td>\n      <td>346</td>\n      <td>False</td>\n      <td>0</td>\n      <td>1.403253e+18</td>\n      <td>movie</td>\n      <td>de</td>\n    </tr>\n    <tr>\n      <th>1</th>\n      <td>18772279</td>\n      <td>5917</td>\n      <td>outnow</td>\n      <td>Seit dieser Woche läuft «Demon Slayer the Movi...</td>\n      <td>0</td>\n      <td>Zürich</td>\n      <td>11-Jun-2021</td>\n      <td>3321</td>\n      <td>False</td>\n      <td>0</td>\n      <td>NaN</td>\n      <td>movie</td>\n      <td>de</td>\n    </tr>\n    <tr>\n      <th>2</th>\n      <td>883643872747835392</td>\n      <td>253</td>\n      <td>subhajit_mshra</td>\n      <td>#6\\n\\nMehndi Hai Rachnewali\\n\\nMovie - Zubeida...</td>\n      <td>0</td>\n      <td>Mumbai, India</td>\n      <td>11-Jun-2021</td>\n      <td>181</td>\n      <td>False</td>\n      <td>0</td>\n      <td>1.403252e+18</td>\n      <td>movie</td>\n      <td>de</td>\n    </tr>\n    <tr>\n      <th>3</th>\n      <td>4273473912</td>\n      <td>15425</td>\n      <td>ynadevs</td>\n      <td>Movie marathon</td>\n      <td>0</td>\n      <td></td>\n      <td>11-Jun-2021</td>\n      <td>619</td>\n      <td>False</td>\n      <td>1</td>\n      <td>NaN</td>\n      <td>movie</td>\n      <td>de</td>\n    </tr>\n    <tr>\n      <th>4</th>\n      <td>23049076</td>\n      <td>19246</td>\n      <td>Nimbert</td>\n      <td>Anderer Ansatz als die bisherigen 12 #XMen Fil...</td>\n      <td>0</td>\n      <td>Europe, Germany, Hannover</td>\n      <td>11-Jun-2021</td>\n      <td>238</td>\n      <td>False</td>\n      <td>0</td>\n      <td>NaN</td>\n      <td>movie</td>\n      <td>de</td>\n    </tr>\n  </tbody>\n</table>\n</div>"
     },
     "metadata": {},
     "execution_count": 22
    }
   ],
   "source": [
    "df.head()"
   ]
  },
  {
   "cell_type": "code",
   "execution_count": 23,
   "metadata": {},
   "outputs": [],
   "source": [
    "df.drop(['user_statuses', 'name', \n",
    "        'followers', 'is_user_verified', 'favorite_count',\n",
    "       'in_reply_to_status_id'], axis=1, inplace=True)\n"
   ]
  },
  {
   "cell_type": "code",
   "execution_count": 24,
   "metadata": {},
   "outputs": [
    {
     "output_type": "execute_result",
     "data": {
      "text/plain": [
       "               user_id                                              tweet  \\\n",
       "0  1308491138077274113  @DFliesstext ... die schon vor weit über einem...   \n",
       "1             18772279  Seit dieser Woche läuft «Demon Slayer the Movi...   \n",
       "2   883643872747835392  #6\\n\\nMehndi Hai Rachnewali\\n\\nMovie - Zubeida...   \n",
       "3           4273473912                                     Movie marathon   \n",
       "4             23049076  Anderer Ansatz als die bisherigen 12 #XMen Fil...   \n",
       "\n",
       "   retweets                   location      created keyword language  \n",
       "0         0                     Berlin  11-Jun-2021   movie       de  \n",
       "1         0                     Zürich  11-Jun-2021   movie       de  \n",
       "2         0              Mumbai, India  11-Jun-2021   movie       de  \n",
       "3         0                             11-Jun-2021   movie       de  \n",
       "4         0  Europe, Germany, Hannover  11-Jun-2021   movie       de  "
      ],
      "text/html": "<div>\n<style scoped>\n    .dataframe tbody tr th:only-of-type {\n        vertical-align: middle;\n    }\n\n    .dataframe tbody tr th {\n        vertical-align: top;\n    }\n\n    .dataframe thead th {\n        text-align: right;\n    }\n</style>\n<table border=\"1\" class=\"dataframe\">\n  <thead>\n    <tr style=\"text-align: right;\">\n      <th></th>\n      <th>user_id</th>\n      <th>tweet</th>\n      <th>retweets</th>\n      <th>location</th>\n      <th>created</th>\n      <th>keyword</th>\n      <th>language</th>\n    </tr>\n  </thead>\n  <tbody>\n    <tr>\n      <th>0</th>\n      <td>1308491138077274113</td>\n      <td>@DFliesstext ... die schon vor weit über einem...</td>\n      <td>0</td>\n      <td>Berlin</td>\n      <td>11-Jun-2021</td>\n      <td>movie</td>\n      <td>de</td>\n    </tr>\n    <tr>\n      <th>1</th>\n      <td>18772279</td>\n      <td>Seit dieser Woche läuft «Demon Slayer the Movi...</td>\n      <td>0</td>\n      <td>Zürich</td>\n      <td>11-Jun-2021</td>\n      <td>movie</td>\n      <td>de</td>\n    </tr>\n    <tr>\n      <th>2</th>\n      <td>883643872747835392</td>\n      <td>#6\\n\\nMehndi Hai Rachnewali\\n\\nMovie - Zubeida...</td>\n      <td>0</td>\n      <td>Mumbai, India</td>\n      <td>11-Jun-2021</td>\n      <td>movie</td>\n      <td>de</td>\n    </tr>\n    <tr>\n      <th>3</th>\n      <td>4273473912</td>\n      <td>Movie marathon</td>\n      <td>0</td>\n      <td></td>\n      <td>11-Jun-2021</td>\n      <td>movie</td>\n      <td>de</td>\n    </tr>\n    <tr>\n      <th>4</th>\n      <td>23049076</td>\n      <td>Anderer Ansatz als die bisherigen 12 #XMen Fil...</td>\n      <td>0</td>\n      <td>Europe, Germany, Hannover</td>\n      <td>11-Jun-2021</td>\n      <td>movie</td>\n      <td>de</td>\n    </tr>\n  </tbody>\n</table>\n</div>"
     },
     "metadata": {},
     "execution_count": 24
    }
   ],
   "source": [
    "df.head()"
   ]
  },
  {
   "cell_type": "code",
   "execution_count": 25,
   "metadata": {},
   "outputs": [],
   "source": [
    "def clean_complete(tweet):\n",
    "    \"\"\"\n",
    "    tweet: pandas series\n",
    "    prepares tweets complete cleaning for further lemmatization and dering embeddings\n",
    "    \"\"\"\n",
    "    pat = r\"(\\\\n)|(@\\w*)|((www\\.[^\\s]+)|(https?://[^\\s]+))\"\n",
    "    tweet = tweet.str.replace(pat, '')\n",
    "\n",
    "    #remove repeated charachters\n",
    "    \n",
    "    #replace emoticons with words\n",
    "    #SMILEYS = {\":-(\":\"sad\", \":‑)\":\"smiley\", \":-P\":\"playfullness\", \":-/\":'confused'}\n",
    "\n",
    "    tweet = tweet.str.replace(r':-\\)', ' smile')\n",
    "    tweet = tweet.str.replace(r':-\\(', ' sad')\n",
    "    tweet = tweet.str.replace(r':-\\/', ' confused')\n",
    "    tweet = tweet.str.replace(r':-P', ' playfullness')\n",
    "\n",
    "    #delete \\xa\n",
    "    tweet = tweet.str.replace('\\xa0', '')\n",
    "\n",
    "    tweet = tweet.str.replace('&amp', '')\n",
    "    tweet = tweet.str.replace('\\n', '')\n",
    "    tweet = tweet.str.replace('\"', '')\n",
    "    tweet = tweet.str.replace('ℐℓ٥ﻻﻉ√٥υ', '')\n",
    "    \n",
    "    #to lower case\n",
    "    tweet = tweet.str.lower()\n",
    "\n",
    "    #covert hashtags to the normal text\n",
    "    tweet = tweet.str.replace(r'#([^\\s]+)', r'\\1')\n",
    "\n",
    "    #delete numbers\n",
    "    tweet = [strip_numeric(c) for c in tweet]\n",
    "\n",
    "    #replacing emojies with descriptions '❤️-> red heart'\n",
    "    #tweet = [demoji.replace_with_desc(c, ' ') for c in tweet]\n",
    "\n",
    "    #replacing emojies with ''\n",
    "    #tweet = [demoji.replace(c, ' ') for c in tweet]\n",
    "\n",
    "    #delete punctuation\n",
    "    tweet = [strip_punctuation(c) for c in tweet]\n",
    "\n",
    "    #remove stop words\n",
    "    tweet = [remove_stopwords(c) for c in tweet]\n",
    "\n",
    "    #remove short words\n",
    "    tweet = [strip_short(c) for c in tweet]\n",
    "\n",
    "    #remove mult whitespaces\n",
    "    tweet = [strip_multiple_whitespaces(c) for c in tweet]\n",
    "    return tweet\n"
   ]
  },
  {
   "cell_type": "code",
   "execution_count": 26,
   "metadata": {},
   "outputs": [],
   "source": [
    "df['tweet'] = clean_complete(df.tweet)"
   ]
  },
  {
   "cell_type": "code",
   "execution_count": 29,
   "metadata": {},
   "outputs": [
    {
     "output_type": "execute_result",
     "data": {
      "text/plain": [
       "               user_id                                              tweet  \\\n",
       "0  1308491138077274113  die schon vor weit über einem jahr als solche ...   \n",
       "1             18772279  seit dieser woche läuft «demon slayer movie mu...   \n",
       "2   883643872747835392    mehndi hai rachnewalimovie zubeida music rahman   \n",
       "3           4273473912                                     movie marathon   \n",
       "4             23049076  anderer ansatz als die bisherigen xmen filme a...   \n",
       "\n",
       "   retweets                   location      created keyword language  \n",
       "0         0                     Berlin  11-Jun-2021   movie       de  \n",
       "1         0                     Zürich  11-Jun-2021   movie       de  \n",
       "2         0              Mumbai, India  11-Jun-2021   movie       de  \n",
       "3         0                             11-Jun-2021   movie       de  \n",
       "4         0  Europe, Germany, Hannover  11-Jun-2021   movie       de  "
      ],
      "text/html": "<div>\n<style scoped>\n    .dataframe tbody tr th:only-of-type {\n        vertical-align: middle;\n    }\n\n    .dataframe tbody tr th {\n        vertical-align: top;\n    }\n\n    .dataframe thead th {\n        text-align: right;\n    }\n</style>\n<table border=\"1\" class=\"dataframe\">\n  <thead>\n    <tr style=\"text-align: right;\">\n      <th></th>\n      <th>user_id</th>\n      <th>tweet</th>\n      <th>retweets</th>\n      <th>location</th>\n      <th>created</th>\n      <th>keyword</th>\n      <th>language</th>\n    </tr>\n  </thead>\n  <tbody>\n    <tr>\n      <th>0</th>\n      <td>1308491138077274113</td>\n      <td>die schon vor weit über einem jahr als solche ...</td>\n      <td>0</td>\n      <td>Berlin</td>\n      <td>11-Jun-2021</td>\n      <td>movie</td>\n      <td>de</td>\n    </tr>\n    <tr>\n      <th>1</th>\n      <td>18772279</td>\n      <td>seit dieser woche läuft «demon slayer movie mu...</td>\n      <td>0</td>\n      <td>Zürich</td>\n      <td>11-Jun-2021</td>\n      <td>movie</td>\n      <td>de</td>\n    </tr>\n    <tr>\n      <th>2</th>\n      <td>883643872747835392</td>\n      <td>mehndi hai rachnewalimovie zubeida music rahman</td>\n      <td>0</td>\n      <td>Mumbai, India</td>\n      <td>11-Jun-2021</td>\n      <td>movie</td>\n      <td>de</td>\n    </tr>\n    <tr>\n      <th>3</th>\n      <td>4273473912</td>\n      <td>movie marathon</td>\n      <td>0</td>\n      <td></td>\n      <td>11-Jun-2021</td>\n      <td>movie</td>\n      <td>de</td>\n    </tr>\n    <tr>\n      <th>4</th>\n      <td>23049076</td>\n      <td>anderer ansatz als die bisherigen xmen filme a...</td>\n      <td>0</td>\n      <td>Europe, Germany, Hannover</td>\n      <td>11-Jun-2021</td>\n      <td>movie</td>\n      <td>de</td>\n    </tr>\n  </tbody>\n</table>\n</div>"
     },
     "metadata": {},
     "execution_count": 29
    }
   ],
   "source": [
    "df.head()"
   ]
  },
  {
   "cell_type": "code",
   "execution_count": 27,
   "metadata": {},
   "outputs": [],
   "source": [
    "#df.reset_index"
   ]
  },
  {
   "cell_type": "code",
   "execution_count": 28,
   "metadata": {},
   "outputs": [],
   "source": [
    "df.to_csv('twitter.csv', sep=',', header=False)"
   ]
  },
  {
   "cell_type": "code",
   "execution_count": 25,
   "metadata": {},
   "outputs": [],
   "source": [
    "# df.reset_index(inplace=True)\n",
    "# df.to_json('data.json')"
   ]
  },
  {
   "cell_type": "code",
   "execution_count": 10,
   "metadata": {},
   "outputs": [
    {
     "output_type": "execute_result",
     "data": {
      "text/plain": [
       "movie        10956\n",
       "movie2021        9\n",
       "Name: keyword, dtype: int64"
      ]
     },
     "metadata": {},
     "execution_count": 10
    }
   ],
   "source": [
    "# check value counts for all predefined kexwords ind 0_twitter_api.pynb\n",
    "df.keyword.value_counts()"
   ]
  },
  {
   "cell_type": "code",
   "execution_count": null,
   "metadata": {},
   "outputs": [],
   "source": [
    "d"
   ]
  }
 ]
}