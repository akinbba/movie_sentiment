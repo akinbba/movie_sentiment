{
 "cells": [
  {
   "cell_type": "code",
   "execution_count": 2,
   "metadata": {},
   "outputs": [],
   "source": [
    "import tweepy\n",
    "from tweepy import Stream, OAuthHandler, API, Cursor\n",
    "from tweepy.streaming import StreamListener\n",
    "import json\n",
    "import pandas as pd\n",
    "import datetime\n",
    "import csv\n",
    "import re #regular expressionfrom textblob import TextBlob\n",
    "import string\n",
    "import preprocessor as p\n",
    "import datetime\n",
    "import nltk\n",
    "from nltk.corpus import stopwords\n",
    "from nltk.tokenize import word_tokenize"
   ]
  },
  {
   "cell_type": "code",
   "execution_count": 3,
   "metadata": {},
   "outputs": [],
   "source": [
    "#Twitter credentials for the app\n",
    "consumer_key = 'ZAyCS36OMgPq1zdC4pXXv8OSb'\n",
    "consumer_secret = 'sRavFc37wErwqhd2lYHJvc5SbqryQHy34dtHnSvMnmGGMxIu5P'\n",
    "access_key= '235459961-Fy7FQtDIj5PIgv9amSsk1McyBMjw5Rfyy17RyFkp'\n",
    "access_secret = '1DvCMTjlmk9MbY4Ay1CJlsOccT10oRMarmRSrd9hpJ8C1'"
   ]
  },
  {
   "cell_type": "code",
   "execution_count": 4,
   "metadata": {},
   "outputs": [],
   "source": [
    "#pass twitter credentials to tweepy\n",
    "auth = OAuthHandler(consumer_key, consumer_secret)\n",
    "auth.set_access_token(access_key, access_secret)\n",
    "api = API(auth,wait_on_rate_limit=True)"
   ]
  },
  {
   "cell_type": "code",
   "execution_count": 5,
   "metadata": {},
   "outputs": [
    {
     "output_type": "stream",
     "name": "stdout",
     "text": [
      "Starting to stream...\n",
      "0\n",
      "movie2021\n",
      "de\n",
      "done!\n",
      "\n",
      "9\n",
      "movie2021\n",
      "en\n",
      "done!\n",
      "\n",
      "0\n",
      "movie2021\n",
      "fr\n",
      "done!\n",
      "\n",
      "0\n",
      "movie2021\n",
      "it\n",
      "done!\n",
      "\n",
      "0\n",
      "movie2021\n",
      "es\n",
      "done!\n",
      "\n",
      "0\n",
      "movie2021\n",
      "fi\n",
      "done!\n",
      "\n",
      "0\n",
      "movie2021\n",
      "sv\n",
      "done!\n",
      "\n",
      "finished!\n"
     ]
    }
   ],
   "source": [
    "search_terms = ['movie']\n",
    "def stream_tweets(search_term, lang):\n",
    "    data = [] # empty list to which tweet_details obj will be added\n",
    "    counter = 0 # counter to keep track of each iteration\n",
    "    for tweet in Cursor(api.search, q='\\\"{}\\\" -filter:retweets'.format(search_term), count=1000, lang=lang, tweet_mode='extended').items():\n",
    "        #list(tweet)\n",
    "        tweet_details = {}\n",
    "        tweet_details['user_id'] = tweet.user.id\n",
    "        tweet_details['user_statuses']=tweet.user.statuses_count\n",
    "        tweet_details['name'] = tweet.user.screen_name\n",
    "        tweet_details['tweet'] = tweet.full_text\n",
    "        tweet_details['retweets'] = tweet.retweet_count\n",
    "        tweet_details['location'] = tweet.user.location\n",
    "        tweet_details['created'] = tweet.created_at.strftime(\"%d-%b-%Y\")\n",
    "        tweet_details['followers'] = tweet.user.followers_count\n",
    "        tweet_details['is_user_verified'] = tweet.user.verified  \n",
    "        tweet_details['favorite_count'] = tweet.favorite_count\n",
    "        tweet_details['in_reply_to_status_id'] = tweet.in_reply_to_status_id\n",
    "        tweet_details['keyword'] = search_term\n",
    "        tweet_details['language'] = lang\n",
    "        data.append(tweet_details)\n",
    "        \n",
    "        counter += 1\n",
    "        if counter == 3000:\n",
    "            break\n",
    "        else:\n",
    "            pass\n",
    "    with open('data/{}.json'.format(datetime.datetime.now().strftime(\"%Y-%m-%d\")+'_'+str(lang)+'_'+search_term), 'w') as f:\n",
    "        json.dump(data, f)\n",
    "    print(counter)\n",
    "    print(search_term)\n",
    "    print(lang)\n",
    "    print('done!')\n",
    "    print('')\n",
    "if __name__ == \"__main__\":\n",
    "    print('Starting to stream...')\n",
    "    for search_term in search_terms:\n",
    "        stream_tweets(search_term,'de')\n",
    "        stream_tweets(search_term,'en')    \n",
    "        stream_tweets(search_term,'fr')\n",
    "        stream_tweets(search_term,'it')\n",
    "        stream_tweets(search_term,'es')\n",
    "        stream_tweets(search_term,'fi')\n",
    "        stream_tweets(search_term,'sv')\n",
    "    print('finished!')  "
   ]
  },
  {
   "cell_type": "code",
   "execution_count": null,
   "metadata": {},
   "outputs": [],
   "source": [
    "db = pd.read_json('C:/Users/hristova/Documents/Text, Web and SM/Notebooks/data/2021-03-09_de_zalando.json', orient='records')\n",
    "db.head()"
   ]
  },
  {
   "cell_type": "code",
   "execution_count": null,
   "metadata": {},
   "outputs": [],
   "source": [
    "len(db['created'])"
   ]
  },
  {
   "cell_type": "code",
   "execution_count": null,
   "metadata": {},
   "outputs": [],
   "source": [
    "db['created'].unique()"
   ]
  },
  {
   "cell_type": "code",
   "execution_count": null,
   "metadata": {},
   "outputs": [],
   "source": []
  }
 ],
 "metadata": {
  "kernelspec": {
   "name": "python3",
   "display_name": "Python 3.9.5 64-bit (windows store)"
  },
  "language_info": {
   "codemirror_mode": {
    "name": "ipython",
    "version": 3
   },
   "file_extension": ".py",
   "mimetype": "text/x-python",
   "name": "python",
   "nbconvert_exporter": "python",
   "pygments_lexer": "ipython3",
   "version": "3.9.5"
  },
  "interpreter": {
   "hash": "08bcf114b6799a788c3e4c5366ee28d230c9527aecb5fe8828812464fcb419b7"
  }
 },
 "nbformat": 4,
 "nbformat_minor": 2
}